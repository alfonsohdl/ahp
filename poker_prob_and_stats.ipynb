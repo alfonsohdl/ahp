{
 "cells": [
  {
   "cell_type": "markdown",
   "metadata": {},
   "source": [
    "* CARD GAME PROBABILITIES AND STATS\n",
    "\n",
    "The calculation of the probability of an event \"A\" is the following:\n",
    "\n",
    "· P(A) = Event outcomes favourable to A / Sample space\n",
    "\n",
    "The probability is always between 0 and 1.\n",
    "\n",
    "There are 52 cards in a standard deck, among those 52 cards there are 4 Aces. \n",
    "The probability of drawing and Ace is calculated as follows: P(A) = 4/52."
   ]
  },
  {
   "cell_type": "code",
   "execution_count": 5,
   "metadata": {},
   "outputs": [
    {
     "name": "stdout",
     "output_type": "stream",
     "text": [
      "0.08\n",
      "8.0%\n"
     ]
    }
   ],
   "source": [
    "# Sample Space\n",
    "cards = 52\n",
    "\n",
    "# Outcomes\n",
    "aces = 4\n",
    "\n",
    "# Divide possible outcomes by the sample set\n",
    "ace_probability = aces / cards\n",
    "\n",
    "# Print probability rounded to two decimal places\n",
    "print(round(ace_probability, 2))\n",
    "\n",
    "# Ace Probability Percent Code\n",
    "ace_probability_percent = ace_probability * 100\n",
    "\n",
    "# Print probability percent rounded to one decimal place\n",
    "print(str(round(ace_probability_percent, 0)) + '%')"
   ]
  },
  {
   "cell_type": "markdown",
   "metadata": {},
   "source": [
    "More examples. Let's calculate the probability of drawing a card that is a Heart, a Face card (such as Jacks, Queens, or Kings), or a combination of both, such as the Queen of Hearts. In such cases, I want to create a User-Defined Function (UDF) event_probability() to which I pass the event_outcomes and the sample_space to find the probability of an event in percentage form."
   ]
  },
  {
   "cell_type": "code",
   "execution_count": 6,
   "metadata": {},
   "outputs": [
    {
     "name": "stdout",
     "output_type": "stream",
     "text": [
      "25.0%\n",
      "23.08%\n",
      "1.92%\n"
     ]
    }
   ],
   "source": [
    "# Create function that returns probability percent rounded to two decimal place\n",
    "def event_probability(event_outcomes, sample_space):\n",
    "    probability = (event_outcomes / sample_space) * 100\n",
    "    return round(probability, 2)\n",
    "\n",
    "# Sample Space\n",
    "cards = 52\n",
    "\n",
    "# Determine the probability of drawing a heart\n",
    "hearts = 13\n",
    "heart_probability = event_probability(hearts, cards)\n",
    "\n",
    "# Determine the probability of drawing a face card\n",
    "face_cards = 12\n",
    "face_card_probability = event_probability(face_cards, cards)\n",
    "\n",
    "# Determine the probability of drawing the queen of hearts\n",
    "queen_of_hearts = 1\n",
    "queen_of_hearts_probability = event_probability(queen_of_hearts, cards)\n",
    "\n",
    "# Print each probability\n",
    "print(str(heart_probability) + '%')\n",
    "print(str(face_card_probability) + '%')\n",
    "print(str(queen_of_hearts_probability) + '%')"
   ]
  },
  {
   "cell_type": "markdown",
   "metadata": {},
   "source": [
    "- Probability with Combinations and Permutations.\n",
    "\n",
    "Determining the size of your sample space is key to calculating probabilities. Fortunately, there are ways to make the counting task easier.\n",
    "Two of these ways are permutations and combinations.\n",
    "\n",
    "- Permutations\n",
    "\n",
    "Permutations are the number of ways a subset of a specified size can be arranged from a given set, generally without replacement.\n",
    "\n",
    "The formula to calculate permutations is the following:\n",
    "\n",
    "nPk = n! / (n-k)!\n",
    "\n",
    "Where: \n",
    "\n",
    "  n = the full set of numbers to choose from.\n",
    "\n",
    "  k = the numbers that you will actually choose.\n",
    "\n",
    "To find the number of permutations of pocket Aces, you'll consider the full set of aces to choose from (n=4) and you also consider the number of aces that you actually choose (k=2).\n",
    "\n",
    "4P2 = 4! / (4-2)!\n",
    "\n",
    "- Combinations\n",
    "\n",
    "When you're working with permutations, the order matters. With combinations, however, this isn't the case: the order doesn't matter.\n",
    "This means that if you want to figure out how many combinations you actually have, you just create all the permutations and divide by all the redundancies.\n",
    "\n",
    "Combinations refers to the number of ways a subset of a specified size can be drawn from a given set.\n",
    "\n",
    "The formula to calculate permutations is the following: \n",
    "\n",
    "nCk = nPk! / k!\n",
    "\n",
    "Where:\n",
    "\n",
    "  nPk = permutations.\n",
    "\n",
    "  k = the number of cards that you will actually choose.\n",
    "\n",
    "Consider another example with Aces. There are four Aces in a deck of cards, and these are all the different combinations of pocket Aces;\n",
    "\n",
    "1 · Ace Hearts & Ace Diamonds\n",
    "\n",
    "2 · Ace Hearts & Ace Clubs\n",
    "\n",
    "3 · Ace Hearts & Ace Spades\n",
    "\n",
    "4 · Ace Diamonds & Ace Clubs\n",
    "\n",
    "5 · Ace Diamonds & Ace Spades\n",
    "\n",
    "6 · Ace Clubs & Ace Spades\n",
    "\n",
    "There are six combinations of pocket Aces. To find the number of combinations, you first must find the number of permutations."
   ]
  },
  {
   "cell_type": "code",
   "execution_count": 7,
   "metadata": {},
   "outputs": [
    {
     "name": "stdout",
     "output_type": "stream",
     "text": [
      "12.0\n"
     ]
    }
   ],
   "source": [
    "# Permutations Code\n",
    "import math\n",
    "n = 4\n",
    "k = 2\n",
    "\n",
    "# Determine permutations and print result\n",
    "Permutations = math.factorial(n) / math.factorial(k)\n",
    "print(Permutations)"
   ]
  },
  {
   "cell_type": "code",
   "execution_count": 8,
   "metadata": {},
   "outputs": [
    {
     "name": "stdout",
     "output_type": "stream",
     "text": [
      "1326.0\n"
     ]
    }
   ],
   "source": [
    "# Combinations Code\n",
    "n = 52\n",
    "k = 2\n",
    "\n",
    "# Determine Permutations\n",
    "Permutations = math.factorial(n) / math.factorial(n - k)\n",
    "\n",
    "# Determine Combinations and print result\n",
    "Combinations = Permutations / math.factorial(k)\n",
    "print(Combinations)"
   ]
  },
  {
   "cell_type": "markdown",
   "metadata": {},
   "source": [
    "* Independent Vs. Dependent Events\n",
    "\n",
    "· Independent events are events that don't impact the probability of the other event(s).\n",
    "\n",
    "· Two events A and B are independent if knowing whether event A occurred gives no information about whether event B occurred.\n",
    "\n",
    "· Dependent events, then, are events that have an impact on the probability of the other event(s).\n",
    "\n",
    "· For example, you draw a card from the deck and then draw a second card from the deck without replacing the first card.\n",
    "\n",
    "· In this case, the probability of drawing an Ace the fist draw is not the same as the probability of drawing an Ace on the second draw.\n",
    "\n",
    "· Let's consider the example where you already know the probability of drawing an Ace on the first draw.\n",
    "\n",
    "· Now you need to determine the probability of drawing an Ace on the second draw, if the first card drawn was either a King or an Ace:\n"
   ]
  },
  {
   "cell_type": "code",
   "execution_count": 9,
   "metadata": {},
   "outputs": [
    {
     "name": "stdout",
     "output_type": "stream",
     "text": [
      "7.84\n",
      "5.88\n"
     ]
    }
   ],
   "source": [
    "# Sample Space\n",
    "cards = 52\n",
    "cards_drawn = 1 \n",
    "cards = cards - cards_drawn \n",
    "\n",
    "# Determine the probability of drawing an Ace after drawing a King on the first draw\n",
    "aces = 4\n",
    "ace_probability1 = event_probability(aces, cards)\n",
    "\n",
    "# Determine the probability of drawing an Ace after drawing an Ace on the first draw\n",
    "aces_drawn = 1\n",
    "aces = aces - aces_drawn\n",
    "ace_probability2 = event_probability(aces, cards)\n",
    "\n",
    "# Print each probability\n",
    "print(ace_probability1)\n",
    "print(ace_probability2)"
   ]
  },
  {
   "cell_type": "markdown",
   "metadata": {},
   "source": [
    "* Texas Hold'em Poker\n",
    "\n",
    "The game is played with a standard 52 card deck. \n",
    "\n",
    "Each player is dealt two cards to start the hand and will make the best five-card hand possible by using their two cards combined with the five community cards that are dealt throughout the hand. \n",
    "\n",
    "Cards are dealt in four rounds:\n",
    "\n",
    "· Pre-Flop: Each player is dealt two cards, known as \"hole cards\".\n",
    "\n",
    "· Flop: Three community cards are dealt.\n",
    "\n",
    "· Turn: One community card is dealt.\n",
    "\n",
    "· River: Final community card is dealt.\n",
    "\n",
    "Example: \n",
    "\n",
    "· Your hand: Ace of diamonds and Queen of Diamonds.\n",
    "\n",
    "· Situation: You are on the turn. Meaning, already four cards were dealt, and only one card is pending to be dealt (\"the river\" card).\n",
    "\n",
    "· Community cards: Jack of clubs, 9 of diamonds, 4 of diamonds, 2 of spades.\n",
    "\n",
    "· You have a Flush \"draw\" meaning if the river card turns out to be a Diamond you will have five diamonds, a strong hand, called \"Flush\" in Poker terminology.\n",
    "\n",
    "What's the probability that the last community card is a Diamond?"
   ]
  },
  {
   "cell_type": "code",
   "execution_count": 10,
   "metadata": {},
   "outputs": [
    {
     "name": "stdout",
     "output_type": "stream",
     "text": [
      "19.57\n"
     ]
    }
   ],
   "source": [
    "# Sample Space\n",
    "cards = 52\n",
    "hole_cards = 2\n",
    "turn_community_cards = 4\n",
    "cards = cards - (hole_cards + turn_community_cards)\n",
    "\n",
    "# Outcomes\n",
    "diamonds = 13\n",
    "diamonds_drawn = 4\n",
    "# In poker, cards that complete a draw are known as \"outs\"\n",
    "outs = diamonds - diamonds_drawn\n",
    "\n",
    "#Determine river flush probability\n",
    "river_flush_probability = event_probability(outs, cards)\n",
    "print(river_flush_probability)\n"
   ]
  },
  {
   "cell_type": "markdown",
   "metadata": {},
   "source": [
    "Example: \n",
    "\n",
    "· Your hand: Jack and Ten of Hearts.\n",
    "\n",
    "· Situation: You are on the turn. Meaning, already four cards were dealt, and only one card is pending to be dealt (\"the river\" card).\n",
    "\n",
    "· Community cards: 9 of diamonds, 3 of clubs, Queen of spades and 5 of hearts.\n",
    "\n",
    "· You have a Straight \"draw\" open ended, meaning if the river card turns out to be a King or an Eight you will complete a straight.\n",
    "\n",
    "What's the probability that the River card completes the Straight?"
   ]
  },
  {
   "cell_type": "code",
   "execution_count": 11,
   "metadata": {},
   "outputs": [
    {
     "name": "stdout",
     "output_type": "stream",
     "text": [
      "17.39\n"
     ]
    }
   ],
   "source": [
    "# Sample Space\n",
    "cards = 52\n",
    "hole_cards = 2\n",
    "turn_community_cards = 4\n",
    "cards = cards - (hole_cards + turn_community_cards)\n",
    "\n",
    "# Outcomes\n",
    "eights = 4\n",
    "kings = 4\n",
    "outs = eights + kings\n",
    "\n",
    "# Determine river straight probability\n",
    "river_straight_probability = event_probability(outs, cards)\n",
    "print(river_straight_probability)"
   ]
  },
  {
   "cell_type": "markdown",
   "metadata": {},
   "source": [
    "- Multiple Events\n",
    "\n",
    "· To calculate the probability for multiple events, you basically determine the number of events, you then determine the probability for each event occurring separately and you multiply all of these probabilities to get your final answer.\n",
    "\n",
    "- Mutually Exclusive Events\n",
    "\n",
    "· When you're working with multiple events, you might also have events that are mutually exclusive: they cannot both occur. In such cases, you might want to calculate the probability of any of multiple mutually exclusive events occurring. In such cases, you don't multiply probabilities, but you simply sum together the probability of each event occurring.\n",
    "\n",
    "- Examples\n",
    "\n",
    "Determine the probability of the following mutually exclusive events.\n",
    "\n",
    "· Drawing a heart or drawing a club.\n",
    "\n",
    "· Drawing an ace, a king or a queen."
   ]
  },
  {
   "cell_type": "code",
   "execution_count": 12,
   "metadata": {},
   "outputs": [
    {
     "name": "stdout",
     "output_type": "stream",
     "text": [
      "50.0\n",
      "23.07\n"
     ]
    }
   ],
   "source": [
    "# Sample Space\n",
    "cards = 52\n",
    "\n",
    "# Calculate the probability of drawing a heart or a club\n",
    "hearts = 13\n",
    "clubs = 13\n",
    "heart_or_club = event_probability(hearts, cards) + event_probability(clubs, cards)\n",
    "\n",
    "# Calculate the probability of drawing an ace, king, or a queen\n",
    "aces = 4\n",
    "kings = 4\n",
    "queens = 4\n",
    "ace_king_or_queen = event_probability(aces, cards) + event_probability(kings, cards) + event_probability(queens, cards)\n",
    "\n",
    "print(heart_or_club)\n",
    "print(ace_king_or_queen)"
   ]
  },
  {
   "cell_type": "markdown",
   "metadata": {},
   "source": [
    "- Non-Mutually Exclusive Events\n",
    "\n",
    "· Not all events are mutually exclusive: Drawing a diamond or drawing an ace are two non-mutually exclusive events.\n",
    "\n",
    "· The ace of diamonds is both an ace and a diamond. When events are not mutually exclusive, you must correct for the overlap.\n",
    "\n",
    "- Examples\n",
    "\n",
    "Determine the probability of the following mutually exclusive events.\n",
    "\n",
    "· Drawing a heart or drawing an ace.\n",
    "\n",
    "· Drawing a red card or a face card."
   ]
  },
  {
   "cell_type": "code",
   "execution_count": 13,
   "metadata": {},
   "outputs": [
    {
     "name": "stdout",
     "output_type": "stream",
     "text": [
      "30.8\n",
      "61.5\n"
     ]
    }
   ],
   "source": [
    "# Sample Space\n",
    "cards = 52\n",
    "\n",
    "# Calculate the probability of drawing a heart or an ace\n",
    "hearts = 13\n",
    "aces = 4\n",
    "ace_of_hearts = 1\n",
    "heart_or_ace = event_probability(hearts, cards) + event_probability(aces, cards) - event_probability(ace_of_hearts, cards)\n",
    "\n",
    "# Calculate the probability of drawing a red card or a face card\n",
    "red_cards = 26\n",
    "face_cards = 12\n",
    "red_face_cards = 6\n",
    "red_or_face_cards = event_probability(red_cards, cards) + event_probability(face_cards, cards) - event_probability(red_face_cards, cards)\n",
    "\n",
    "print(round(heart_or_ace, 1))\n",
    "print(round(red_or_face_cards, 1))"
   ]
  },
  {
   "cell_type": "markdown",
   "metadata": {},
   "source": [
    "- Intersection of Independent Events\n",
    "\n",
    "· The probability of the intersection of two independent events is determined by multiplying the probabilities of each event occurring."
   ]
  },
  {
   "cell_type": "code",
   "execution_count": 14,
   "metadata": {},
   "outputs": [
    {
     "name": "stdout",
     "output_type": "stream",
     "text": [
      "0.6\n"
     ]
    }
   ],
   "source": [
    "# Sample Space\n",
    "cards = 52\n",
    "\n",
    "# Outcomes\n",
    "aces = 4\n",
    "\n",
    "# Probability of one ace\n",
    "ace_probability = aces / cards\n",
    "\n",
    "# Probability of two consecutive independant aces \n",
    "two_aces_probability = ace_probability * ace_probability\n",
    "\n",
    "# Two Ace Probability Percent Code\n",
    "two_ace_probability_percent = two_aces_probability * 100\n",
    "print(round(two_ace_probability_percent, 1))"
   ]
  },
  {
   "cell_type": "markdown",
   "metadata": {},
   "source": [
    "- Intersection of Dependent Events\n",
    "\n",
    "The probability of the intersection of two non-independent events (Event A & Event B given A) is determined by multiplying the probability of Event A occurring, times the probability of Event B given A.\n",
    "\n",
    "· What is the probability of being dealt two Aces?\n"
   ]
  },
  {
   "cell_type": "code",
   "execution_count": 15,
   "metadata": {},
   "outputs": [
    {
     "name": "stdout",
     "output_type": "stream",
     "text": [
      "0.4524886877828055\n"
     ]
    }
   ],
   "source": [
    "# Sample Space first draw\n",
    "cards = 52\n",
    "\n",
    "# Outcomes first draw\n",
    "aces = 4\n",
    "\n",
    "# Probability of ace on first draw\n",
    "first_ace_probability = aces / cards\n",
    "\n",
    "# Sample Space second draw\n",
    "cards = cards - 1\n",
    "\n",
    "# Outcomes second draw\n",
    "aces = aces - 1\n",
    "\n",
    "# Probability of ace on second draw after ace on first\n",
    "second_ace_probability = aces / cards\n",
    "\n",
    "# Probability of two consecutive aces (dependent)\n",
    "both_aces_probability = first_ace_probability * second_ace_probability * 100\n",
    "print(both_aces_probability)"
   ]
  },
  {
   "cell_type": "markdown",
   "metadata": {},
   "source": [
    "- Intersection of Dependent Events: Flop Flush Draw\n",
    "\n",
    "Example: \n",
    "\n",
    "· Your hand: Ace and Queen of Diamonds.\n",
    "\n",
    "· Situation: You are on flop.\n",
    "\n",
    "· Community cards: Jack of clubs, 9 of diamonds, 4 of diamons.\n",
    "\n",
    "· You have a Flush \"draw\" , meaning if the turn or river card turns out to be a diamond the flush will be completed.\n",
    "\n",
    "What's the probability of getting a Flush by the river?\n",
    "\n",
    "These are all the different possible scenarios (each scenario is mutually-exclusive, in other words, one of these four scenarios is definitely going to occur):\n",
    "\n",
    "A) Turn Diamond, River Non Diamond (Made Flush)\n",
    "\n",
    "B) Turn Non Diamond, River Diamond (Made Flush)\n",
    "\n",
    "C) Turn Diamond, River Diamond (Made Flush)\n",
    "\n",
    "D) Turn Non Diamond, River Non Diamond (No Flush)\n",
    "\n",
    "· The simplest approach to figure this out is to determine the probability of scenario D, and subtract that from 1."
   ]
  },
  {
   "cell_type": "code",
   "execution_count": 16,
   "metadata": {},
   "outputs": [
    {
     "name": "stdout",
     "output_type": "stream",
     "text": [
      "38.4\n"
     ]
    }
   ],
   "source": [
    "# Sample Space on turn\n",
    "cards = 52\n",
    "hole_cards = 2\n",
    "flop_community_cards = 3\n",
    "cards = cards - (hole_cards + flop_community_cards)\n",
    "\n",
    "# Outcomes\n",
    "diamonds = 13\n",
    "diamonds_drawn = 4\n",
    "non_diamonds_drawn = 1\n",
    "outs = diamonds - diamonds_drawn\n",
    "turn_non_diamonds = cards - outs - non_diamonds_drawn \n",
    "\n",
    "# Probability of not getting a diamond on the turn\n",
    "no_diamond_turn_probability = turn_non_diamonds / cards\n",
    "\n",
    "# Sample Space on river\n",
    "turn_community_card = 1\n",
    "cards = cards - turn_community_card\n",
    "\n",
    "# Outcomes on river\n",
    "river_non_diamonds = turn_non_diamonds - turn_community_card\n",
    "\n",
    "# Probability of not getting a diamond on the river\n",
    "no_diamond_river_probability = river_non_diamonds / cards\n",
    "\n",
    "# Probability of not getting a flush\n",
    "no_flush_probability = no_diamond_turn_probability * no_diamond_river_probability\n",
    "\n",
    "# Probability of getting a flush\n",
    "flush_probability = 1 - no_flush_probability\n",
    "flush_probability_percent = flush_probability * 100\n",
    "\n",
    "# Print probability percent rounded to one decimal place\n",
    "print(round(flush_probability_percent, 1))"
   ]
  },
  {
   "cell_type": "markdown",
   "metadata": {},
   "source": [
    "- Example: \n",
    "\n",
    "· Your hand: 6 and 5 of Diamonds.\n",
    "\n",
    "· Situation: You are on flop.\n",
    "\n",
    "· Community cards: Jack of clubs, 9 of diamonds, 4 of diamons.\n",
    "\n",
    "· You still have a flush draw, but this time you don’t have the Ace.\n",
    "\n",
    "· If a Diamond falls on the turn and the river, there is a good chance someone will have a better flush draw. \n",
    "\n",
    "Determine the probability of a Diamond falling on the Turn or the River, but not both.\n",
    "\n",
    "· You already have the probability of not hitting a flush.\n",
    "\n",
    "· Now find the probability of a diamond falling on the turn and river, add that to the probability of not hitting a flush, and subtract from 1."
   ]
  },
  {
   "cell_type": "code",
   "execution_count": 17,
   "metadata": {},
   "outputs": [
    {
     "name": "stdout",
     "output_type": "stream",
     "text": [
      "35.1\n"
     ]
    }
   ],
   "source": [
    "# Sample Space on turn\n",
    "cards = 52\n",
    "hole_cards = 2\n",
    "flop_community_cards = 3\n",
    "cards = cards - (hole_cards + flop_community_cards)\n",
    "\n",
    "# Outcomes on turn\n",
    "diamonds = 13\n",
    "diamonds_drawn = 4\n",
    "outs = diamonds - diamonds_drawn\n",
    "\n",
    "# Probability of diamond on turn\n",
    "diamond_turn_probability = outs / cards\n",
    "\n",
    "# Sample Space on river\n",
    "turn_diamonds = 1\n",
    "cards = cards - turn_diamonds\n",
    "\n",
    "# Outcomes on river\n",
    "river_diamonds = outs - turn_diamonds\n",
    "\n",
    "# Probability of diamond on river\n",
    "diamond_river_probability = river_diamonds / cards\n",
    "\n",
    "# Probability of getting a diamond on the turn and river\n",
    "two_diamonds_probability = diamond_turn_probability * diamond_river_probability\n",
    "\n",
    "# Determine the probability of getting only one diamond by the river\n",
    "one_diamond_probability = 1 - (no_flush_probability + two_diamonds_probability)\n",
    "one_diamond_probability_percent = one_diamond_probability * 100\n",
    "\n",
    "# Print probability percent rounded to one decimal place\n",
    "print(round(one_diamond_probability_percent, 1))"
   ]
  },
  {
   "cell_type": "markdown",
   "metadata": {},
   "source": [
    "- EXPECTED VALUE\n",
    "\n",
    "· \"How much do I gain - or lose - on average, if I repeatedly play this game?\"\n",
    "\n",
    "· If the possible outcomes of the game and their associated probabilities can be described by a random variable, then you can answer the above question by computing its expected value, which is equal to a weighted average of the outcomes where each outcome is weighted by its probability.\n",
    "\n",
    "· EV = Value x Probability\n",
    "\n",
    "What is the expected value if there is $100 (Value) in the pot, and your probability of winning the pot is 0.75?"
   ]
  },
  {
   "cell_type": "code",
   "execution_count": 18,
   "metadata": {},
   "outputs": [
    {
     "name": "stdout",
     "output_type": "stream",
     "text": [
      "75.0\n"
     ]
    }
   ],
   "source": [
    "# Initialize `pot` and `probability` variables\n",
    "pot = 100\n",
    "probability = 0.75\n",
    "\n",
    "# Determine expected value\n",
    "expected_value = pot * probability\n",
    "print(expected_value)"
   ]
  },
  {
   "cell_type": "markdown",
   "metadata": {},
   "source": [
    "- Example: \n",
    "\n",
    "· Your hand: Ace and Queen of Diamonds.\n",
    "\n",
    "· Opponent's hand: 2 of hearts and 2 of clubs.\n",
    "\n",
    "· Situation: You are on the turn.\n",
    "\n",
    "· Community cards: Jack of clubs, 9 of diamonds, 4 of diamonds, 2 of clubs.\n",
    "\n",
    "· You have a flush draw, and you have the Ace.\n",
    "\n",
    "· Total pot: $60\n",
    "\n",
    "· Opponents bet: $20\n",
    "\n",
    "To win the hand on the River, you must hit any Diamond except a Jack or 2.\n",
    "\n",
    "The Jack or 2 of Diamonds would give your opponent a better hand, a full house and four of a kind respectively.\n",
    "\n",
    "You have to call $20 to stay in the hand, and if you win the hand you win 60. \n",
    "\n",
    "· If your expected value is greater than $20 you should call the bet, and if not you should fold."
   ]
  },
  {
   "cell_type": "code",
   "execution_count": 19,
   "metadata": {},
   "outputs": [
    {
     "name": "stdout",
     "output_type": "stream",
     "text": [
      "9.55 Fold\n"
     ]
    }
   ],
   "source": [
    "# Sample Space\n",
    "cards = 52\n",
    "hole_cards = 2\n",
    "# Your opponent provided you information... use it!\n",
    "opponents_hole_cards = 2 \n",
    "\n",
    "turn_community_cards = 4\n",
    "cards = cards - (hole_cards + opponents_hole_cards + turn_community_cards)\n",
    "\n",
    "# Outcomes\n",
    "diamonds = 13\n",
    "diamonds_drawn = 4\n",
    "\n",
    "# You can't count the two diamonds that won't help you win\n",
    "diamond_non_outs = 2 \n",
    "\n",
    "outs = diamonds - diamonds_drawn - diamond_non_outs\n",
    "\n",
    "# Determine win probability\n",
    "win_probability = outs / cards\n",
    "\n",
    "# Determine expected value\n",
    "pot = 60\n",
    "ev = pot * win_probability\n",
    "\n",
    "# Print ev and appropriate decision\n",
    "call_amount = 20\n",
    "if ev >= 20:\n",
    "    print(round(ev, 2), 'Call')\n",
    "else:\n",
    "    print(round(ev, 2), 'Fold')"
   ]
  },
  {
   "cell_type": "markdown",
   "metadata": {},
   "source": [
    "- Your EV is only $9.55.\n",
    "\n",
    "- You would need to risk 20.00 dollars to get the 9.55 dollars reward, so you must fold.\n",
    "\n",
    "- Determining EV is critical to understand at the Poker table."
   ]
  }
 ],
 "metadata": {
  "kernelspec": {
   "display_name": "Python 3",
   "language": "python",
   "name": "python3"
  },
  "language_info": {
   "codemirror_mode": {
    "name": "ipython",
    "version": 3
   },
   "file_extension": ".py",
   "mimetype": "text/x-python",
   "name": "python",
   "nbconvert_exporter": "python",
   "pygments_lexer": "ipython3",
   "version": "3.11.4"
  },
  "orig_nbformat": 4
 },
 "nbformat": 4,
 "nbformat_minor": 2
}
